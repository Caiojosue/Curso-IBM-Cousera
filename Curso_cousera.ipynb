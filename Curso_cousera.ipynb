{
 "cells": [
  {
   "cell_type": "markdown",
   "id": "2a65d363-7467-4464-bab5-20a67ac161cd",
   "metadata": {},
   "source": [
    "# My notebook"
   ]
  },
  {
   "cell_type": "markdown",
   "id": "aa3038af-6552-488f-9f11-d00413220329",
   "metadata": {},
   "source": [
    "### My Jupyter notebooks on data science and data analysis, from the IBM and Coursera courses, for you\n",
    "-------------------------------------------------------------------------"
   ]
  },
  {
   "cell_type": "markdown",
   "id": "02be591e-1695-43ec-9e79-42ca231f22a7",
   "metadata": {},
   "source": [
    "## Linguagens de Ciencia de Dados\n",
    "\n",
    "### Python\n",
    "### R \n",
    "### SQL (Structured Query Language)\n",
    "### Julia\n",
    "### Java\n",
    "------------------------------"
   ]
  },
  {
   "cell_type": "markdown",
   "id": "6780ce2a-d913-4624-b607-4cc52d56ca5f",
   "metadata": {},
   "source": [
    "## Bibliotecas Ciencia de Dados\n",
    "\n",
    "### Matplotlib\n",
    "### Pandas\n",
    "### Numpy\n",
    "### ggplot2\n",
    "### Shiny\n",
    "### Beautiful Soup\n",
    "----------------"
   ]
  },
  {
   "cell_type": "markdown",
   "id": "ad1f3334-9860-4bf1-bafa-091866c8eb3d",
   "metadata": {},
   "source": [
    "##  tabela de ferramentas de ciência de dados\n",
    "\n",
    "### Manipulação e Análise de Dados\tPandas\tPython\tEstruturas de dados flexíveis (DataFrames e Series) para análise e manipulação de dados\n",
    "\n",
    "### Visualização de Dados\tMatplotlib\tPython\tBiblioteca para criação de gráficos estáticos em Python, com diversas opções de personalização\n",
    "\n",
    "### Caret R Interface unificada para diversos algoritmos de aprendizado de máquina em R, simplificando a criação e avaliação de modelos\n",
    "----------------------------"
   ]
  },
  {
   "cell_type": "markdown",
   "id": "bb59e8d6-9434-475c-a9d8-2206aaf685f5",
   "metadata": {},
   "source": [
    "## exemplos de expressões aritméticas\n",
    "\n",
    "### Normalização de dados:\n",
    "Min-Max Scaling: (x - min(x)) / (max(x) - min(x))\n",
    "Standardization (Z-score): (x - mean(x)) / sd(x)\n",
    "\n",
    "Média: sum(x) / length(x)\n",
    "Variância: sum((x - mean(x))^2) / (length(x) - 1)\n",
    "Desvio padrão: sqrt(variance(x))\n",
    "\n",
    "Combinação de colunas: df$nova_coluna <- df$coluna1 + df$coluna2\n",
    "Transformações logarítmicas: df$log_coluna <- log(df$coluna)\n",
    "Cálculo de percentuais: df$percentual <- (df$parte / df$total) * 100"
   ]
  },
  {
   "cell_type": "code",
   "execution_count": 24,
   "id": "99973b27-5e5a-4df6-9857-e643227b0623",
   "metadata": {},
   "outputs": [
    {
     "name": "stdout",
     "output_type": "stream",
     "text": [
      "The result of multiplication is: 60\n",
      "The result of addition is: 11\n",
      "The result of combined operations is: 71\n"
     ]
    }
   ],
   "source": [
    "num1 = 5\n",
    "num2 = 12\n",
    "result_mult = num1 * num2\n",
    "print(\"The result of multiplication is:\", result_mult)\n",
    "\n",
    "# Addition\n",
    "num3 = 8\n",
    "num4 = 3\n",
    "result_add = num3 + num4\n",
    "print(\"The result of addition is:\", result_add)\n",
    "\n",
    "# Combined operations\n",
    "num5 = 10\n",
    "result_combined = (num1 * num2) + (num3 + num4)\n",
    "print(\"The result of combined operations is:\", result_combined)"
   ]
  },
  {
   "cell_type": "code",
   "execution_count": 26,
   "id": "8031d938-7790-4b64-859c-49b163dd706d",
   "metadata": {},
   "outputs": [
    {
     "name": "stdout",
     "output_type": "stream",
     "text": [
      "150 minutes is equal to 2.5 hours\n"
     ]
    }
   ],
   "source": [
    "def minutes_to_hours(minutes):\n",
    "  \"\"\"\n",
    "  This function converts minutes to hours.\n",
    "\n",
    "  Args:\n",
    "    minutes: The number of minutes to convert.\n",
    "\n",
    "  Returns:\n",
    "    The equivalent number of hours.\n",
    "  \"\"\"\n",
    "  hours = minutes / 60\n",
    "  return hours\n",
    "\n",
    "# Example usage\n",
    "minutes_input = 150\n",
    "hours_output = minutes_to_hours(minutes_input)\n",
    "print(f\"{minutes_input} minutes is equal to {hours_output} hours\")"
   ]
  },
  {
   "cell_type": "markdown",
   "id": "c3c3fbc5-cc32-4add-8281-6a164b7be9ef",
   "metadata": {},
   "source": [
    "-----------------------------\n",
    "## Lista de Objetivos\n",
    "\n",
    "### Análise Descritiva: Entender o que aconteceu ou está acontecendo nos dados, identificando padrões, tendências e anomalias\n",
    "### Análise Diagnóstica: Investigar as causas por trás dos padrões e tendências observados, buscando entender o \"porquê\" das coisas\n",
    "### Análise Preditiva: Utilizar modelos estatísticos e de aprendizado de máquina para prever eventos futuros ou resultados com base em dados históricos\n",
    "-------------------------"
   ]
  },
  {
   "cell_type": "markdown",
   "id": "11fd4746-36a7-487f-bdcc-d766a1bcfca8",
   "metadata": {},
   "source": [
    "# Autor:\n",
    "## Caio Sando"
   ]
  },
  {
   "cell_type": "code",
   "execution_count": null,
   "id": "72e2b2fa-3645-4fdc-900e-6cdad157fbbb",
   "metadata": {},
   "outputs": [],
   "source": []
  }
 ],
 "metadata": {
  "kernelspec": {
   "display_name": "Python 3 (ipykernel)",
   "language": "python",
   "name": "python3"
  },
  "language_info": {
   "codemirror_mode": {
    "name": "ipython",
    "version": 3
   },
   "file_extension": ".py",
   "mimetype": "text/x-python",
   "name": "python",
   "nbconvert_exporter": "python",
   "pygments_lexer": "ipython3",
   "version": "3.12.4"
  }
 },
 "nbformat": 4,
 "nbformat_minor": 5
}
